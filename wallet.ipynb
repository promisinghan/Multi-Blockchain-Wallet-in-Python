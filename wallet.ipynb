{
 "cells": [
  {
   "cell_type": "markdown",
   "metadata": {},
   "source": [
    "# Deriving the wallet keys"
   ]
  },
  {
   "cell_type": "code",
   "execution_count": 1,
   "metadata": {},
   "outputs": [],
   "source": [
    "# installing the latest version\n",
    "# !pip install -U python-dotenv"
   ]
  },
  {
   "cell_type": "code",
   "execution_count": 2,
   "metadata": {},
   "outputs": [],
   "source": [
    "# !pip3 install pycryptodome"
   ]
  },
  {
   "cell_type": "code",
   "execution_count": 3,
   "metadata": {},
   "outputs": [],
   "source": [
    "import Crypto.Cipher\n",
    "\n",
    "from Crypto.Cipher import AES"
   ]
  },
  {
   "cell_type": "code",
   "execution_count": 4,
   "metadata": {},
   "outputs": [],
   "source": [
    "import subprocess\n",
    "import json\n",
    "import web3\n",
    "import bit\n",
    "import os\n",
    "from dotenv import load_dotenv\n",
    "load_dotenv()\n",
    "\n",
    "# Use constants anytime referencing the strings, both in function calls and setting oject keys.\n",
    "from constants import BTC, BTCTEST, ETH\n",
    "#from constants import *"
   ]
  },
  {
   "cell_type": "code",
   "execution_count": 5,
   "metadata": {},
   "outputs": [
    {
     "data": {
      "text/plain": [
       "'btc-test'"
      ]
     },
     "execution_count": 5,
     "metadata": {},
     "output_type": "execute_result"
    }
   ],
   "source": [
    "# Sanity check\n",
    "BTCTEST"
   ]
  },
  {
   "cell_type": "code",
   "execution_count": 6,
   "metadata": {},
   "outputs": [
    {
     "data": {
      "text/plain": [
       "'eth'"
      ]
     },
     "execution_count": 6,
     "metadata": {},
     "output_type": "execute_result"
    }
   ],
   "source": [
    "# Sanity check\n",
    "ETH"
   ]
  },
  {
   "cell_type": "code",
   "execution_count": 7,
   "metadata": {},
   "outputs": [],
   "source": [
    "# Set the 12 word mnemonic as an environment variable\n",
    "mnemonic = os.getenv('MNEMONIC')"
   ]
  },
  {
   "cell_type": "code",
   "execution_count": 8,
   "metadata": {},
   "outputs": [
    {
     "data": {
      "text/plain": [
       "'very elbow cry essay rail course steel item decline kidney vault jeans'"
      ]
     },
     "execution_count": 8,
     "metadata": {},
     "output_type": "execute_result"
    }
   ],
   "source": [
    "# Sanity check\n",
    "mnemonic"
   ]
  },
  {
   "cell_type": "code",
   "execution_count": 9,
   "metadata": {},
   "outputs": [],
   "source": [
    "# Set the 12 word mnemonic as an environment variable, and include the one you generated as a fallback\n",
    "mnemonic = os.getenv('MNEMONIC', 'very elbow cry essay rail course steel item decline kidney vault jeans')"
   ]
  },
  {
   "cell_type": "code",
   "execution_count": 10,
   "metadata": {},
   "outputs": [
    {
     "name": "stdout",
     "output_type": "stream",
     "text": [
      "<class 'str'>\n"
     ]
    }
   ],
   "source": [
    "print(type(mnemonic))"
   ]
  },
  {
   "cell_type": "code",
   "execution_count": 11,
   "metadata": {},
   "outputs": [
    {
     "data": {
      "text/plain": [
       "'very elbow cry essay rail course steel item decline kidney vault jeans'"
      ]
     },
     "execution_count": 11,
     "metadata": {},
     "output_type": "execute_result"
    }
   ],
   "source": [
    "# Sanity check\n",
    "mnemonic"
   ]
  },
  {
   "cell_type": "code",
   "execution_count": 12,
   "metadata": {},
   "outputs": [
    {
     "name": "stdout",
     "output_type": "stream",
     "text": [
      "php derive -g --coin=ETH --numderive=2 --format=json --mnemonic=\"very elbow cry essay rail course steel item decline kidney vault jeans\" \n",
      "\n",
      "[{'path': \"m/44'/60'/0'/0/0\", 'address': '0xfEEb7F4465a23E5B98bCEc6C52dC013A43b7183e', 'xprv': 'xprvA47ozEv8F6Ui1aW4xttZHoC1ezz2MzxG5jVmnusMXbHcPQjP6AsGuHd25HjiRk4TEZZA6AbCcGtLQdJbwE3VdNSeMyet3th7VX2Lojy38yM', 'xpub': 'xpub6H7APkT25U31E4aY4vRZew8kD2pWmTg7SxRNbJGy5vpbGD4XdiBXT5wVvbwk5YyApJTMvB8i6YhYnczEgnvvXfg3wd3VDgR6bnViwSXNStA', 'privkey': '0x560c404be4b1d12c829a084fc2a5fca42be9f21adee352d5d7821199338bbc20', 'pubkey': '03f870144d50b3e70d10204a4315bf405abdd0aafa23bb217725dec75348c651e7', 'pubkeyhash': 'de5c84a379ae76fa0236379603bb9551739bd606', 'index': 0}, {'path': \"m/44'/60'/0'/0/1\", 'address': '0xebcceDE0B93d33E975afAc529b7306a9403D4Ee8', 'xprv': 'xprvA47ozEv8F6Ui3rsejJtSApRYvwn2ZFhEqj1T6S7FTYrdBQnfh3EA3S5wdE9hM7zePq5hQ3jcK1FHu6nE2dukfbvV5A6Ud9PzDBNc19fpgFT', 'xpub': 'xpub6H7APkT25U31GLx7qLRSXxNHUycWxiR6Cww3tpWs1tPc4D7pEaYQbEQRUUz945FCQ3JtwH9CZ7PYZvtVtKHNQeGtAhtH1p5UBehSXfenCbd', 'privkey': '0x505f4fc79d33dfb005287f480735699ae394ef99dc37a095a64b865f31956036', 'pubkey': '0236a977599d69cd47c838c8991e500c66de22555ed3603a6d1fcc7054b4b9ac39', 'pubkeyhash': 'ce1fca9b4992f327c71f5020684447fae4234e77', 'index': 1}]\n"
     ]
    }
   ],
   "source": [
    "# I created a symlink called derive for the hd-wallet-derive/hd-wallet-derive.php script in advance \n",
    "# so that I can just call \"derive\" instead of \"./hd-wallet-derive/hd-wallet-derive.php\"\n",
    "\n",
    "command = 'php derive -g --coin=ETH --numderive=2 --format=json --mnemonic=\"' + mnemonic + '\" '\n",
    "\n",
    "print(command)\n",
    "print()\n",
    "p = subprocess.Popen(command, stdout=subprocess.PIPE, shell=True)\n",
    "output, err = p.communicate()\n",
    "p_status = p.wait()\n",
    "\n",
    "keys = json.loads(output)\n",
    "print(keys)"
   ]
  },
  {
   "cell_type": "code",
   "execution_count": 13,
   "metadata": {},
   "outputs": [
    {
     "name": "stdout",
     "output_type": "stream",
     "text": [
      "[{'path': \"m/44'/60'/0'/0/0\", 'address': '0xfEEb7F4465a23E5B98bCEc6C52dC013A43b7183e', 'xprv': 'xprvA47ozEv8F6Ui1aW4xttZHoC1ezz2MzxG5jVmnusMXbHcPQjP6AsGuHd25HjiRk4TEZZA6AbCcGtLQdJbwE3VdNSeMyet3th7VX2Lojy38yM', 'xpub': 'xpub6H7APkT25U31E4aY4vRZew8kD2pWmTg7SxRNbJGy5vpbGD4XdiBXT5wVvbwk5YyApJTMvB8i6YhYnczEgnvvXfg3wd3VDgR6bnViwSXNStA', 'privkey': '0x560c404be4b1d12c829a084fc2a5fca42be9f21adee352d5d7821199338bbc20', 'pubkey': '03f870144d50b3e70d10204a4315bf405abdd0aafa23bb217725dec75348c651e7', 'pubkeyhash': 'de5c84a379ae76fa0236379603bb9551739bd606', 'index': 0}, {'path': \"m/44'/60'/0'/0/1\", 'address': '0xebcceDE0B93d33E975afAc529b7306a9403D4Ee8', 'xprv': 'xprvA47ozEv8F6Ui3rsejJtSApRYvwn2ZFhEqj1T6S7FTYrdBQnfh3EA3S5wdE9hM7zePq5hQ3jcK1FHu6nE2dukfbvV5A6Ud9PzDBNc19fpgFT', 'xpub': 'xpub6H7APkT25U31GLx7qLRSXxNHUycWxiR6Cww3tpWs1tPc4D7pEaYQbEQRUUz945FCQ3JtwH9CZ7PYZvtVtKHNQeGtAhtH1p5UBehSXfenCbd', 'privkey': '0x505f4fc79d33dfb005287f480735699ae394ef99dc37a095a64b865f31956036', 'pubkey': '0236a977599d69cd47c838c8991e500c66de22555ed3603a6d1fcc7054b4b9ac39', 'pubkeyhash': 'ce1fca9b4992f327c71f5020684447fae4234e77', 'index': 1}]\n"
     ]
    }
   ],
   "source": [
    "# Question: why using mnemonic variable as above generates different wallet addresses compared to using the hard coded mneumonic phrases?\n",
    "\n",
    "command = 'php derive -g --coin=ETH --numderive=2 --format=json --mnemonic=\"very elbow cry essay rail course steel item decline kidney vault jeans\"'\n",
    "\n",
    "p = subprocess.Popen(command, stdout=subprocess.PIPE, shell=True)\n",
    "output, err = p.communicate()\n",
    "p_status = p.wait()\n",
    "\n",
    "keys = json.loads(output)\n",
    "print(keys)"
   ]
  },
  {
   "cell_type": "code",
   "execution_count": 14,
   "metadata": {},
   "outputs": [],
   "source": [
    "# below is the function in case I didn't create a symlink called \"derive\".\n",
    "\n",
    "def derive_wallets(coin, mnemonic, numderive=2):\n",
    "    command = f'php ./hd-wallet-derive/hd-wallet-derive.php -g --coin={coin} --format=json --numderive={numderive} --mnemonic=\"{mnemonic}\"'\n",
    "\n",
    "    p = subprocess.Popen(command, stdin=subprocess.PIPE, stdout=subprocess.PIPE, stderr=subprocess.PIPE, shell=True)\n",
    "    output, err = p.communicate()\n",
    "    p_status = p.wait()\n",
    "\n",
    "    return json.loads(output)"
   ]
  },
  {
   "cell_type": "code",
   "execution_count": 15,
   "metadata": {},
   "outputs": [],
   "source": [
    "# Create function to get the BIP44-derived wallet addresses \n",
    "\n",
    "def derive_wallets(coin, mnemonic, numderive=3):\n",
    "    command = f'php derive -g --coin={coin} --format=json --numderive={numderive} --mnemonic=\"{mnemonic}\"'\n",
    "\n",
    "    p = subprocess.Popen(command, stdin=subprocess.PIPE, stdout=subprocess.PIPE, stderr=subprocess.PIPE, shell=True)\n",
    "    output, err = p.communicate()\n",
    "    p_status = p.wait()\n",
    "\n",
    "    return json.loads(output)"
   ]
  },
  {
   "cell_type": "code",
   "execution_count": 16,
   "metadata": {},
   "outputs": [],
   "source": [
    "# Create an object called coins that derives ETH and BTCTEST wallets with the derive_wallets function.\n",
    "\n",
    "coin_type = [BTC, ETH, BTCTEST]\n",
    "coins = {}\n",
    "for x in coin_type:\n",
    "    coins[x] = derive_wallets(x, mnemonic)"
   ]
  },
  {
   "cell_type": "code",
   "execution_count": 17,
   "metadata": {
    "scrolled": true
   },
   "outputs": [
    {
     "data": {
      "text/plain": [
       "{'btc': [{'path': \"m/44'/0'/0'/0/0\",\n",
       "   'address': '1EMsFuX7EtQ8B7Faj2Dfr4fr1bzJ6hqXd5',\n",
       "   'xprv': 'xprvA3EcqdeMhL6iPg11gWkk98R564se7X78oAMRSvBgKDmiiwPsyKT8MsKgUhHG4ZAzcQRuqkcuVhH75ubDT1vWLCJGj5gHfhRUkqjB82ZPtrs',\n",
       "   'xpub': 'xpub6GDyF9BFXhf1cA5UnYHkWGMoe6i8WypzAPH2FJbHsZJhbjj2WrmNufeAKwh5bggmW7GQhHvRv511N2TuAmeUV8AD2uJPcEWtNuQkxaMhRWA',\n",
       "   'privkey': 'Kz2tDwXMrmg7j8ZthsYSb7v8EbrDZ8HMKiYm2MVpaUaCeHymbNTu',\n",
       "   'pubkey': '02025237fa00093958e8f59c42b308977c56bbccea42b817b962f6072c572f57f6',\n",
       "   'pubkeyhash': '928be8273b0d1db89142b3aa16c4ef2626a8fc1e',\n",
       "   'index': 0},\n",
       "  {'path': \"m/44'/0'/0'/0/1\",\n",
       "   'address': '19qsbR1xUAMvY7wL4FauK3sqjsZf89YY8s',\n",
       "   'xprv': 'xprvA3EcqdeMhL6iRTPqWpY98io1GhRh9Zr2sTguvnqBP87kMkf3ZBTG2HJBM1Fi674cfth8zFRFQYjHiDr8LEPYFF8Kq9BbcoQJ5SNpdrfh42m',\n",
       "   'xpub': 'xpub6GDyF9BFXhf1dwUJcr59VrjjpjGBZ2ZtEgcWjBEnwTejEYzC6imWa5cfCEjsq1ZjjcnEbBht8unoWZCtyfAFZnxZWvs5B1Vp1YVkvcBEYji',\n",
       "   'privkey': 'L4UfpdK7KQCp6bWZkTGFEM3KgmAi5TaLnjofMUyqboXWjiqL17Nu',\n",
       "   'pubkey': '020d1d0b39a7f038e9090f4e38e8cb9996b33e8f9ed3818dea4e491acdd20c46b5',\n",
       "   'pubkeyhash': '60ff34a478a74b03877e1fb9755bb54740371e16',\n",
       "   'index': 1},\n",
       "  {'path': \"m/44'/0'/0'/0/2\",\n",
       "   'address': '1JUDGrUtCq1RXyhF8KMKHMTB1h6ax3MCYt',\n",
       "   'xprv': 'xprvA3EcqdeMhL6iTzHkZB7tn36imQguoxukRKb3ARN1AE2qKVfnxDna77jB75owjpMTi61kFCK2RgWAzRmM4xZBkDcEiNyQ2SJ3WMVN1rgCWnG',\n",
       "   'xpub': 'xpub6GDyF9BFXhf1gUNDfCeu9B3TKSXQDRdbnYWdxomciZZpCHzwVm6pev3exPzTbSmecL7EyFcDZ6oBn8xoCvonsm2DacFXnJyRwXPWC2m6eEG',\n",
       "   'privkey': 'KwxkXLvnEQcCFWFAuff48gzpEK7Pu7o6McZo5CcD1DF6PTSAXrYy',\n",
       "   'pubkey': '03b5182c653e00be85e433f3a05cdbe64a9c9b3d0d1841144f01e7f5db93784d7f',\n",
       "   'pubkeyhash': 'bf9f9d5349b72eccd2ea28c17f5a4ea987fff473',\n",
       "   'index': 2}],\n",
       " 'eth': [{'path': \"m/44'/60'/0'/0/0\",\n",
       "   'address': '0xfEEb7F4465a23E5B98bCEc6C52dC013A43b7183e',\n",
       "   'xprv': 'xprvA47ozEv8F6Ui1aW4xttZHoC1ezz2MzxG5jVmnusMXbHcPQjP6AsGuHd25HjiRk4TEZZA6AbCcGtLQdJbwE3VdNSeMyet3th7VX2Lojy38yM',\n",
       "   'xpub': 'xpub6H7APkT25U31E4aY4vRZew8kD2pWmTg7SxRNbJGy5vpbGD4XdiBXT5wVvbwk5YyApJTMvB8i6YhYnczEgnvvXfg3wd3VDgR6bnViwSXNStA',\n",
       "   'privkey': '0x560c404be4b1d12c829a084fc2a5fca42be9f21adee352d5d7821199338bbc20',\n",
       "   'pubkey': '03f870144d50b3e70d10204a4315bf405abdd0aafa23bb217725dec75348c651e7',\n",
       "   'pubkeyhash': 'de5c84a379ae76fa0236379603bb9551739bd606',\n",
       "   'index': 0},\n",
       "  {'path': \"m/44'/60'/0'/0/1\",\n",
       "   'address': '0xebcceDE0B93d33E975afAc529b7306a9403D4Ee8',\n",
       "   'xprv': 'xprvA47ozEv8F6Ui3rsejJtSApRYvwn2ZFhEqj1T6S7FTYrdBQnfh3EA3S5wdE9hM7zePq5hQ3jcK1FHu6nE2dukfbvV5A6Ud9PzDBNc19fpgFT',\n",
       "   'xpub': 'xpub6H7APkT25U31GLx7qLRSXxNHUycWxiR6Cww3tpWs1tPc4D7pEaYQbEQRUUz945FCQ3JtwH9CZ7PYZvtVtKHNQeGtAhtH1p5UBehSXfenCbd',\n",
       "   'privkey': '0x505f4fc79d33dfb005287f480735699ae394ef99dc37a095a64b865f31956036',\n",
       "   'pubkey': '0236a977599d69cd47c838c8991e500c66de22555ed3603a6d1fcc7054b4b9ac39',\n",
       "   'pubkeyhash': 'ce1fca9b4992f327c71f5020684447fae4234e77',\n",
       "   'index': 1},\n",
       "  {'path': \"m/44'/60'/0'/0/2\",\n",
       "   'address': '0xf791707500669b5d0A1cc5b6F95987DA395eC4f6',\n",
       "   'xprv': 'xprvA47ozEv8F6Ui4gVUYLhArQY1BmNK5vpyHmcy9eVTrUzPi9GUiQNczUWuSyfr3QACaWZaxTD6uGzDAv2rNUXvaXWyVFmaZqXfM7uk4Nb7BKM',\n",
       "   'xpub': 'xpub6H7APkT25U31HAZweNEBDYUjjoCoVPYpezYZx2u5QpXNawbdFwgsYGqPJGsJWwJu8HW7qfynPEPwvtFqZV3JmDvcCi7cB4zkxb8FjZNr5i3',\n",
       "   'privkey': '0x76918d9a4d5b1ddd57dbaa79946b46eeaca1d15e518c5d60d71ac261315e0b8d',\n",
       "   'pubkey': '0393f6ad98397b1455c1de0db868ac2b5610c53f0faa48b9311130e52c375b7c2c',\n",
       "   'pubkeyhash': 'e07ba0c39856b139fb36136dfa5aa0ae2fa7398d',\n",
       "   'index': 2}],\n",
       " 'btc-test': [{'path': \"m/44'/1'/0'/0/0\",\n",
       "   'address': 'n3zjBCybP9YfD3Jbo3XmNbea7m2bVeqCaF',\n",
       "   'xprv': 'tprv8jtghNvGNPaCUsJBVjZJFdnS9qKTyWMJeFMSpk3rqgJhVKt5WoNai1P8TyQRbNfxD2xe2ZKcTStgAoqZtSQ1mBRgpRjktZHEDDrUp3RTX1P',\n",
       "   'xpub': 'tpubDGaiqnxWWmFsNLKyPPDtf3SYirqQ8qYDDYxE7G6AFx76Kp8r9CCAtVzze6iUHCc94QN7vKcNemsR6LKeuRPxjqC2C26gFiBdr6gYX2SMtyF',\n",
       "   'privkey': 'cNsCZXyVNk2pg6NLMssGZxnjeBWWq3ousz58UBvWwCmfb94z4VqV',\n",
       "   'pubkey': '02565978a569d47b09c8071888174a1ae4c5b8c5db4d61337de57c186a7a204c5b',\n",
       "   'pubkeyhash': 'f69376ba38ec53b18ec4893faa2c88d8ab14416a',\n",
       "   'index': 0},\n",
       "  {'path': \"m/44'/1'/0'/0/1\",\n",
       "   'address': 'n2nrtRREqL1QpgjM8iZY8CURxUkehcHSCV',\n",
       "   'xprv': 'tprv8jtghNvGNPaCXJZR3vYnwVN4JJWLPqF3kdDxrHreQ2JNStbW3umpgyWfNaPVC4UhG5de7ye2BTmePEpSibkgPeYoRDhyhJTQZQ1jDhZ1zM5',\n",
       "   'xpub': 'tpubDGaiqnxWWmFsQmbCwaDPLu2AsL2GZARxKvpk8otwpJ6mHNrGgJbQsU8XYhbgzSeKHZnA4zRL1gLzCVf2A2ZjYPJVah2ZUXgrtfZLqxbv6sQ',\n",
       "   'privkey': 'cQxWforkMpoVD84bnE1zb56buvR1LUM9ohDoutg8uFUfpEehpCyC',\n",
       "   'pubkey': '02877d7894f45fb927e83bf8854a46cacf7aa924a638e5d0ed53b4b4496b496cdf',\n",
       "   'pubkeyhash': 'e95cc86e6514b8cd94f2c9255bc88f464a17f734',\n",
       "   'index': 1},\n",
       "  {'path': \"m/44'/1'/0'/0/2\",\n",
       "   'address': 'n3Gzsmfj8yv2SWoxKnGNjhX7s2LRRPPiyN',\n",
       "   'xprv': 'tprv8jtghNvGNPaCZDH8btdGoYzwGCwGuFvCcF78cNMN36NxxyjXZzn3NyeZoREQvS2Rzjncnz5rp18vws3Znhf4LWRDM5t9ijYpBwih8A2K3aS',\n",
       "   'xpub': 'tpubDGaiqnxWWmFsSgJvVYHsCxf3qETD4b77BYhuttPfTNBMoTzJCPbdZUGRyZKNTXcQ8MFhYPzN9m6FgT3AbEvmnXRFRYfdJxpeTCVPugUEFE6',\n",
       "   'privkey': 'cUEYqcgHU3GYViFeDbhbZhdE7U1n9zc5nCiZo7BX47J39C8VwFW3',\n",
       "   'pubkey': '035c7ef30b36a7e08a3db25cd89470de37d81a6b94854ccd84c94e8be90f90395d',\n",
       "   'pubkeyhash': 'eeaf193b4785d23d6e023c250a6368c0dba8c0c4',\n",
       "   'index': 2}]}"
      ]
     },
     "execution_count": 17,
     "metadata": {},
     "output_type": "execute_result"
    }
   ],
   "source": [
    "coins"
   ]
  },
  {
   "cell_type": "code",
   "execution_count": 18,
   "metadata": {},
   "outputs": [
    {
     "name": "stdout",
     "output_type": "stream",
     "text": [
      "btc 3\n",
      "eth 3\n",
      "btc-test 3\n"
     ]
    }
   ],
   "source": [
    "# function to check the number of derived wallets in the \"coins\" dictionary.\n",
    "for coin in coins:\n",
    "    print(coin, len(coins[coin]))"
   ]
  },
  {
   "cell_type": "code",
   "execution_count": 19,
   "metadata": {},
   "outputs": [
    {
     "data": {
      "text/plain": [
       "('0x560c404be4b1d12c829a084fc2a5fca42be9f21adee352d5d7821199338bbc20',\n",
       " 'cQxWforkMpoVD84bnE1zb56buvR1LUM9ohDoutg8uFUfpEehpCyC')"
      ]
     },
     "execution_count": 19,
     "metadata": {},
     "output_type": "execute_result"
    }
   ],
   "source": [
    "# Select child accounts (and thus, private keys) by calling coins[COINTYPE][INDEX]['privkey']\n",
    "coins['eth'][0]['privkey'], coins['btc-test'][1]['privkey']"
   ]
  },
  {
   "cell_type": "code",
   "execution_count": 20,
   "metadata": {},
   "outputs": [
    {
     "data": {
      "text/plain": [
       "('0x560c404be4b1d12c829a084fc2a5fca42be9f21adee352d5d7821199338bbc20',\n",
       " 'cQxWforkMpoVD84bnE1zb56buvR1LUM9ohDoutg8uFUfpEehpCyC')"
      ]
     },
     "execution_count": 20,
     "metadata": {},
     "output_type": "execute_result"
    }
   ],
   "source": [
    "# Using the constant 'ETH' that I imported from constants.py file\n",
    "coins[ETH][0]['privkey'], coins[BTCTEST][1]['privkey']"
   ]
  },
  {
   "cell_type": "markdown",
   "metadata": {},
   "source": [
    "# Now, we need to use bit and web3.py to leverage the keys we've got in the coins object.\n",
    "You will need to create three more functions:"
   ]
  },
  {
   "cell_type": "code",
   "execution_count": 21,
   "metadata": {},
   "outputs": [],
   "source": [
    "# for BITTEST\n",
    "from bit import PrivateKeyTestnet\n",
    "from bit.network import NetworkAPI"
   ]
  },
  {
   "cell_type": "code",
   "execution_count": 22,
   "metadata": {},
   "outputs": [],
   "source": [
    "# for ETH\n",
    "from web3 import Web3\n",
    "from eth_account import Account\n",
    "from pathlib import Path\n",
    "from getpass import getpass\n",
    "\n",
    "from web3.middleware import geth_poa_middleware\n",
    "\n",
    "from web3 import Account"
   ]
  },
  {
   "cell_type": "code",
   "execution_count": 23,
   "metadata": {},
   "outputs": [],
   "source": [
    "def privateKeyToAccount(coin, priv_key):\n",
    "    if coin==ETH:\n",
    "        return Account.privateKeyToAccount(priv_key)\n",
    "\n",
    "    elif coin==BTCTEST:\n",
    "        return PrivateKeyTestnet(priv_key)"
   ]
  },
  {
   "cell_type": "code",
   "execution_count": 24,
   "metadata": {},
   "outputs": [
    {
     "name": "stdout",
     "output_type": "stream",
     "text": [
      "0x560c404be4b1d12c829a084fc2a5fca42be9f21adee352d5d7821199338bbc20\n",
      "\n"
     ]
    },
    {
     "data": {
      "text/plain": [
       "<eth_account.signers.local.LocalAccount at 0x282e54fb608>"
      ]
     },
     "execution_count": 24,
     "metadata": {},
     "output_type": "execute_result"
    }
   ],
   "source": [
    "# Sanity check\n",
    "a = coins['eth'][0]['privkey']\n",
    "print(a)\n",
    "print()\n",
    "Account.privateKeyToAccount(a)"
   ]
  },
  {
   "cell_type": "code",
   "execution_count": 25,
   "metadata": {},
   "outputs": [
    {
     "data": {
      "text/plain": [
       "<eth_account.signers.local.LocalAccount at 0x282e54f5f08>"
      ]
     },
     "execution_count": 25,
     "metadata": {},
     "output_type": "execute_result"
    }
   ],
   "source": [
    "# Sanity check\n",
    "privateKeyToAccount(ETH, coins[ETH][0]['privkey'])"
   ]
  },
  {
   "cell_type": "code",
   "execution_count": 26,
   "metadata": {},
   "outputs": [
    {
     "name": "stdout",
     "output_type": "stream",
     "text": [
      "cQxWforkMpoVD84bnE1zb56buvR1LUM9ohDoutg8uFUfpEehpCyC\n",
      "\n"
     ]
    },
    {
     "data": {
      "text/plain": [
       "<PrivateKeyTestnet: n2nrtRREqL1QpgjM8iZY8CURxUkehcHSCV>"
      ]
     },
     "execution_count": 26,
     "metadata": {},
     "output_type": "execute_result"
    }
   ],
   "source": [
    "# Sanity check\n",
    "b = coins[BTCTEST][1]['privkey']\n",
    "print(b)\n",
    "print()\n",
    "PrivateKeyTestnet(b)"
   ]
  },
  {
   "cell_type": "code",
   "execution_count": 27,
   "metadata": {},
   "outputs": [
    {
     "data": {
      "text/plain": [
       "<PrivateKeyTestnet: n2nrtRREqL1QpgjM8iZY8CURxUkehcHSCV>"
      ]
     },
     "execution_count": 27,
     "metadata": {},
     "output_type": "execute_result"
    }
   ],
   "source": [
    "# Sanity check\n",
    "privateKeyToAccount(BTCTEST, coins['btc-test'][1]['privkey'])"
   ]
  },
  {
   "cell_type": "code",
   "execution_count": 28,
   "metadata": {},
   "outputs": [],
   "source": [
    "def create_raw_tx(coin, account, to, amount):\n",
    "    if coin==ETH:\n",
    "        gasEstimate = w3.eth.estimateGas(\n",
    "            {\"from\": account.address, \"to\": to, \"value\": amount}\n",
    "        )\n",
    "        return {\n",
    "            \"to\": to,\n",
    "            \"from\": account.address,\n",
    "            \"value\": amount,\n",
    "            \"gas\": gasEstimate,\n",
    "            \"gasPrice\": w3.eth.gasPrice,\n",
    "            \"nonce\": w3.eth.getTransactionCount(account.address),\n",
    "            \"chainId\": w3.net.chain_id\n",
    "        }\n",
    "    elif coin==BTCTEST:\n",
    "        return PrivateKeyTestnet.prepare_transaction(account.address, [(to, amount, BTC)])\n",
    "\n",
    "def send_tx(coin, account, to, amount):\n",
    "    raw_tx = create_raw_tx(coin, account, to, amount)\n",
    "    signed = account.sign_transaction(raw_tx)\n",
    "    if coin==ETH:\n",
    "        return w3.eth.sendRawTransaction(signed.rawTransaction)\n",
    "    \n",
    "    elif coin==BTCTEST:        \n",
    "        return NetworkAPI.broadcast_tx_testnet(signed)"
   ]
  },
  {
   "cell_type": "code",
   "execution_count": null,
   "metadata": {},
   "outputs": [],
   "source": []
  }
 ],
 "metadata": {
  "kernelspec": {
   "display_name": "ethereum2",
   "language": "python",
   "name": "ethereum2"
  },
  "language_info": {
   "codemirror_mode": {
    "name": "ipython",
    "version": 3
   },
   "file_extension": ".py",
   "mimetype": "text/x-python",
   "name": "python",
   "nbconvert_exporter": "python",
   "pygments_lexer": "ipython3",
   "version": "3.7.9"
  }
 },
 "nbformat": 4,
 "nbformat_minor": 4
}
