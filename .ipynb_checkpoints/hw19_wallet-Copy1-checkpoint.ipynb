{
 "cells": [
  {
   "cell_type": "markdown",
   "metadata": {},
   "source": [
    "# Deriving the wallet keys"
   ]
  },
  {
   "cell_type": "code",
   "execution_count": 1,
   "metadata": {},
   "outputs": [],
   "source": [
    "import subprocess\n",
    "import json\n",
    "import web3\n",
    "import bit\n",
    "import os\n",
    "from dotenv import load_dotenv\n",
    "load_dotenv()\n",
    "\n",
    "from constants import BTC, BTCTEST, ETH\n",
    "#from constants import *\n",
    "\n",
    "coins = [BTC, ETH, BTCTEST]"
   ]
  },
  {
   "cell_type": "code",
   "execution_count": 2,
   "metadata": {},
   "outputs": [],
   "source": [
    "#installing the latest version\n",
    "#!pip install -U python-dotenv"
   ]
  },
  {
   "cell_type": "code",
   "execution_count": 3,
   "metadata": {},
   "outputs": [],
   "source": [
    "# Set the 12 word mnemonic as an environment variable, and include the one you generated as a fallback\n",
    "mnemonic = os.getenv('MNEMONIC', 'once elder inherit dutch tent turn private permit security never blanket egg')"
   ]
  },
  {
   "cell_type": "code",
   "execution_count": 4,
   "metadata": {},
   "outputs": [
    {
     "name": "stdout",
     "output_type": "stream",
     "text": [
      "<class 'str'>\n"
     ]
    }
   ],
   "source": [
    "print(type(mnemonic))"
   ]
  },
  {
   "cell_type": "code",
   "execution_count": 5,
   "metadata": {},
   "outputs": [
    {
     "name": "stdout",
     "output_type": "stream",
     "text": [
      "[{'path': \"m/44'/60'/0'/0/0\", 'address': '0x24a359B88Ff372e958D6b792b60838BFe6Fe205e', 'xprv': 'xprvA3fYoxH6DHrWTdrjNN99HyEcXiY3urEdy5dR4PvjMYZjLANnSV4in56rN5PiPwDXvwfrkBoPzjzRAHT4qnkCkVK29KorE2UTXN83aicnSBo', 'xpub': 'xpub6GeuDToz3fQog7wCUPg9f7BM5kNYKJxVLJZ1rnLLut6iCxhvz2NyKsRLDPQr4zDmNyZDUBYo4Hzve7G73BKpMuUM4kurVDnzkPZvaenfbLD', 'privkey': '0x03612cc14315f03cec5b67929339703b34d03fbfeeaf3d7bdbc05f51ae9e2c12', 'pubkey': '038d0747117733e0635b95a78fa7c21816b7afc3f8f0e47b3c2677c7b51f5ca52a', 'pubkeyhash': '166703c72b4e29c3a304475dc317d3d464c713ad', 'index': 0}, {'path': \"m/44'/60'/0'/0/1\", 'address': '0x256519e93F2521DcEC48338F03CA524e2352794E', 'xprv': 'xprvA3fYoxH6DHrWW4WUrSVF5w8PHeqrVpEfSV6bkVZKsGwRqtiemLXkX9didJY5vypjFHzcQbDWKhktsS63tPMSHVxy4VdByaRAKCQTH9ECv88', 'xpub': 'xpub6GeuDToz3fQoiYawxU2FT557qggLuGxWoi2CYsxwRcUQih3oJsr14wxCUd17hkRTz4TzFRfTPdZ7MYAHMJZmDTj7Cu9B4aR9L9D6SBBPZ4H', 'privkey': '0x04008b5ad85255fbb7dbc66852293b8b9bed94ba33d2b360fbbb110fa014b6fd', 'pubkey': '03c874c3d2ebd9d5c69afeb9830c02e4e652afd87f035aac291cd88b93861a729e', 'pubkeyhash': '84710182390bb978c08b58a9577cf96db747a14d', 'index': 1}, {'path': \"m/44'/60'/0'/0/2\", 'address': '0xEA13C8D45A3231dbAd880007dAeD6Ea34b057b5C', 'xprv': 'xprvA3fYoxH6DHrWYvXAjRT5DKv3foyee4WENwXQ1cUBj31KBURnN5aHMZwJYQR9irEsrC28owofVgFysSiRFwM7VPLYpL3eRds3uoWEoMQRUxf', 'xpub': 'xpub6GeuDToz3fQomQbdqSz5aTrnDqp93XE5kASzozsoHNYJ4GkvuctXuNFnPf8z5BmhjpsZmxH1VvKBxLVzcBnAgAnSgAYtXFFASqJCjpcsFLZ', 'privkey': '0x6c149cc773740ffb586d40ed5e53f9c1abfe1187cfb966f466b4813efa174da9', 'pubkey': '02435cc1bcce7b0c3c850105ba174f2d3916f9e357fde7ec29c79ac51830428bcd', 'pubkeyhash': '1c11206dfd85647e7f644a315981252a22409189', 'index': 2}]\n"
     ]
    }
   ],
   "source": [
    "command = 'php derive -g --coin=ETH --numderive=3 --format=json --mnemonic=\"once elder inherit dutch tent turn private permit security never blanket egg\"'\n",
    "\n",
    "p = subprocess.Popen(command, stdout=subprocess.PIPE, shell=True)\n",
    "output, err = p.communicate()\n",
    "p_status = p.wait()\n",
    "\n",
    "keys = json.loads(output)\n",
    "print(keys)"
   ]
  },
  {
   "cell_type": "code",
   "execution_count": 6,
   "metadata": {},
   "outputs": [],
   "source": [
    "# below is the function in case I didn't create a symlink called \"derive\".\n",
    "\n",
    "def derive_wallets(coin, mnemonic, numderive=3):\n",
    "    command = f'php ./hd-wallet-derive/hd-wallet-derive.php -g --coin={coin} --format=json --numderive={numderive} --mnemonic=\"{mnemonic}\"'\n",
    "\n",
    "    p = subprocess.Popen(command, stdin=subprocess.PIPE, stdout=subprocess.PIPE, stderr=subprocess.PIPE, shell=True)\n",
    "    output, err = p.communicate()\n",
    "    p_status = p.wait()\n",
    "\n",
    "    return json.loads(output)"
   ]
  },
  {
   "cell_type": "code",
   "execution_count": 7,
   "metadata": {},
   "outputs": [],
   "source": [
    "# Create function to get the BIP44-derived wallet addresses \n",
    "# I created a symlink called derive for the hd-wallet-derive/hd-wallet-derive.php in advance\n",
    "\n",
    "def derive_wallets(coin, mnemonic, numderive=3):\n",
    "    command = f'php derive -g --coin={coin} --format=json --numderive={numderive} --mnemonic=\"{mnemonic}\"'\n",
    "\n",
    "    p = subprocess.Popen(command, stdin=subprocess.PIPE, stdout=subprocess.PIPE, stderr=subprocess.PIPE, shell=True)\n",
    "    output, err = p.communicate()\n",
    "    p_status = p.wait()\n",
    "\n",
    "    return json.loads(output)"
   ]
  },
  {
   "cell_type": "code",
   "execution_count": 8,
   "metadata": {},
   "outputs": [],
   "source": [
    "# Create an object called coins that derives ETH and BTCTEST wallets with the derive_wallets function.\n",
    "\n",
    "coin_type = [BTC, ETH, BTCTEST]\n",
    "coins = {}\n",
    "for x in coin_type:\n",
    "    coins[x] = derive_wallets(x, mnemonic)"
   ]
  },
  {
   "cell_type": "code",
   "execution_count": 9,
   "metadata": {},
   "outputs": [
    {
     "data": {
      "text/plain": [
       "{'btc': [{'path': \"m/44'/0'/0'/0/0\",\n",
       "   'address': '1HSUHByhv1FNmGs9ugLrnn94HgaJXx6Hjq',\n",
       "   'xprv': 'xprvA38hqMBmesnpWf66H3joLgKf5kQ9eVMC3g3EjPEssoRktycX2f1fGoAAaCpZGkjHpU8uYmMNab3thjrqw43BdeBv5b4pU3jJKsEUFiZtZpz',\n",
       "   'xpub': 'xpub6G84ErifVFM7j9AZP5GohpGPdnEe3x53QtxqXmeVS8xjmmwfaCKupbUeRUwzcvNdjhmP78p6e6zkPP6stDuhgEFPNqugvqz3fKg39imi932',\n",
       "   'privkey': 'L4pwhjsNrGTecwA2JRAE9jXQ4BWo4eeSXyuWvxNU4iYR2uVvecBG',\n",
       "   'pubkey': '03738f2f764d0b33aa12de3f257433cb360d7d4050cabc168dc7b7309e8840ef5d',\n",
       "   'pubkeyhash': 'b4532edc83316383136943fcd070745e60ad1d3f',\n",
       "   'index': 0},\n",
       "  {'path': \"m/44'/0'/0'/0/1\",\n",
       "   'address': '1HTvHPp4C826xgMAsguxrmC5udkRCyZiCd',\n",
       "   'xprv': 'xprvA38hqMBmesnpZ9wS2W3BZx33bqkjKCkBWPhMs1oBFBsF7ubhakpGXoxhTV56BTfGz4C19qRb7XjhvGkas47DkpeFVMiXFn5ESFvWXMiguvF',\n",
       "   'xpub': 'xpub6G84ErifVFM7me1u8XaBw5yn9sbDifU2sccxfQCnoXQDzhvr8J8X5cHBJnTjhtQczw5M51i2pDjU1TwbvfyFmUJxpHSs9jiRJiNtGbbpQgM',\n",
       "   'privkey': 'L3223BwAWUodsYFaERRfoufvPVdSUgbjvmLEh2M5QWAVNQGePoHp',\n",
       "   'pubkey': '03e3d05df90da6b42283601b73c8b49b084d8e14a8f4e62d31e8f8520c846b5466',\n",
       "   'pubkeyhash': 'b4994e3f91dad1494c8f691c1d98b535c8dc7b9a',\n",
       "   'index': 1},\n",
       "  {'path': \"m/44'/0'/0'/0/2\",\n",
       "   'address': '154dfGGfsCyri4iXxV2iQKvM7bvZRmKHFt',\n",
       "   'xprv': 'xprvA38hqMBmesnpbkTyitAY2vPZAyPm5FHSzQ8ZSLJmVMYuDhLoKX7ocjeGmAemQ4PZsUZ18RKBq9XVgUeujhGg5guPJkShqLBxtFkSFNLSQmE',\n",
       "   'xpub': 'xpub6G84ErifVFM7pEYSpuhYQ4LHj1EFUi1JMd4AEiiP3h5t6Vfws4S4AXxkcRsG65g8JocjNTEYnnSYtiT3cx1eJcZHiZGbi6rLanZZ9QXddyn',\n",
       "   'privkey': 'L4hyDkqTThxyGj4VmJwosRei6CK2ynNm9YRwd5mU73DNnTrDFvoq',\n",
       "   'pubkey': '02f7c273a96b75b027723dd943ffcf0f7030fd300510166e285571881e36970b73',\n",
       "   'pubkeyhash': '2c905a5ea5b90b90904f4d4f6bd4ca8b1fa258cc',\n",
       "   'index': 2}],\n",
       " 'eth': [{'path': \"m/44'/60'/0'/0/0\",\n",
       "   'address': '0x24a359B88Ff372e958D6b792b60838BFe6Fe205e',\n",
       "   'xprv': 'xprvA3fYoxH6DHrWTdrjNN99HyEcXiY3urEdy5dR4PvjMYZjLANnSV4in56rN5PiPwDXvwfrkBoPzjzRAHT4qnkCkVK29KorE2UTXN83aicnSBo',\n",
       "   'xpub': 'xpub6GeuDToz3fQog7wCUPg9f7BM5kNYKJxVLJZ1rnLLut6iCxhvz2NyKsRLDPQr4zDmNyZDUBYo4Hzve7G73BKpMuUM4kurVDnzkPZvaenfbLD',\n",
       "   'privkey': '0x03612cc14315f03cec5b67929339703b34d03fbfeeaf3d7bdbc05f51ae9e2c12',\n",
       "   'pubkey': '038d0747117733e0635b95a78fa7c21816b7afc3f8f0e47b3c2677c7b51f5ca52a',\n",
       "   'pubkeyhash': '166703c72b4e29c3a304475dc317d3d464c713ad',\n",
       "   'index': 0},\n",
       "  {'path': \"m/44'/60'/0'/0/1\",\n",
       "   'address': '0x256519e93F2521DcEC48338F03CA524e2352794E',\n",
       "   'xprv': 'xprvA3fYoxH6DHrWW4WUrSVF5w8PHeqrVpEfSV6bkVZKsGwRqtiemLXkX9didJY5vypjFHzcQbDWKhktsS63tPMSHVxy4VdByaRAKCQTH9ECv88',\n",
       "   'xpub': 'xpub6GeuDToz3fQoiYawxU2FT557qggLuGxWoi2CYsxwRcUQih3oJsr14wxCUd17hkRTz4TzFRfTPdZ7MYAHMJZmDTj7Cu9B4aR9L9D6SBBPZ4H',\n",
       "   'privkey': '0x04008b5ad85255fbb7dbc66852293b8b9bed94ba33d2b360fbbb110fa014b6fd',\n",
       "   'pubkey': '03c874c3d2ebd9d5c69afeb9830c02e4e652afd87f035aac291cd88b93861a729e',\n",
       "   'pubkeyhash': '84710182390bb978c08b58a9577cf96db747a14d',\n",
       "   'index': 1},\n",
       "  {'path': \"m/44'/60'/0'/0/2\",\n",
       "   'address': '0xEA13C8D45A3231dbAd880007dAeD6Ea34b057b5C',\n",
       "   'xprv': 'xprvA3fYoxH6DHrWYvXAjRT5DKv3foyee4WENwXQ1cUBj31KBURnN5aHMZwJYQR9irEsrC28owofVgFysSiRFwM7VPLYpL3eRds3uoWEoMQRUxf',\n",
       "   'xpub': 'xpub6GeuDToz3fQomQbdqSz5aTrnDqp93XE5kASzozsoHNYJ4GkvuctXuNFnPf8z5BmhjpsZmxH1VvKBxLVzcBnAgAnSgAYtXFFASqJCjpcsFLZ',\n",
       "   'privkey': '0x6c149cc773740ffb586d40ed5e53f9c1abfe1187cfb966f466b4813efa174da9',\n",
       "   'pubkey': '02435cc1bcce7b0c3c850105ba174f2d3916f9e357fde7ec29c79ac51830428bcd',\n",
       "   'pubkeyhash': '1c11206dfd85647e7f644a315981252a22409189',\n",
       "   'index': 2}],\n",
       " 'btc-test': [{'path': \"m/44'/1'/0'/0/0\",\n",
       "   'address': 'mwwcYaMw59RrJsacb8EWbvSZ7fiZXRw6bv',\n",
       "   'xprv': 'tprv8jhvB14Fgy8WCVZFtb7ZcdEeM2sub3Ktq7MSdN5sacV7X84SKAgg21pgJHzujN4c95ygjue2KkgY4TsVNRAw5vVXNTN4tfNrYp3FSGAuySh',\n",
       "   'xpub': 'tpubDGPxKR6VqLpB5xb3nEnA22tkv4PqkNWoQQxDut8AztHWMcKCwZWGCWSYUSZD973rgvS4CS64iyCAAm8jn26wZtwspf6Kv1WmCGXfpHxX8Yf',\n",
       "   'privkey': 'cUFs8vZu8UKSA21ZMpMo57nuQdCdcPYrxxtJpL6imejbHCBmgQaw',\n",
       "   'pubkey': '039b41e7f46e5f9308e03db0237c946c1e819e1a35de42cf26707e71037a3044d8',\n",
       "   'pubkeyhash': 'b42bece919942c80f0ebb2b17e5432c49e8304f0',\n",
       "   'index': 0},\n",
       "  {'path': \"m/44'/1'/0'/0/1\",\n",
       "   'address': 'mjzrV4wCmJqCqhzGxdFjxgUktbCN3NjU5z',\n",
       "   'xprv': 'tprv8jhvB14Fgy8WDE6vCLQE2nWUix8wBt8W61thbqN9yoVUvYodJY1YZaxGGAQWafQThPBvEzTpyAs8fYSkUxbcrMzoXiTmmbrscjDejdAF7Wy',\n",
       "   'xpub': 'tpubDGPxKR6VqLpB6h8i5z4pSCAbHyesMDKQfKVUtMQTQ5Hsm34Pvvq8k5a8SGWdu8t6NnAo62YM2w2pnwV79Kfz1Sa5U9NzgM6akxcPaUvAwaK',\n",
       "   'privkey': 'cTsRLC9wAZbRqUozmbMy1MxJsnzTSVPwNic1yzEejGGFt5DsFvf9',\n",
       "   'pubkey': '024ce33401984b9c729b464de0733c964d8feafdb7dee99039dbb7b23399a594fa',\n",
       "   'pubkeyhash': '31274ccfb254a13a0ef78d99d78f990ef4afd038',\n",
       "   'index': 1},\n",
       "  {'path': \"m/44'/1'/0'/0/2\",\n",
       "   'address': 'n1vnfnSgu3ukcSSfHskT9uvwGEJG6PAxWa',\n",
       "   'xprv': 'tprv8jhvB14Fgy8WFeqjZLHt2fE25PYAQ3i94FmHS3z347a57F99yt3TDBHob2SiJ5V1Cjj6iTmHvG9EMgz2mj9JmVcWRo98P9gDXNpCDEk8jhg',\n",
       "   'xpub': 'tpubDGPxKR6VqLpB97sXSyxUS4t8eR46ZNu3dZN4ia2LUPNTwjPvcGs3Pfufm9pfUdkf2qhofkVBB49vWKZ4KkhA93Tc396GC1GB4NonQKj5snx',\n",
       "   'privkey': 'cUwhaUdkXcv3KtbFQ4tzbGbikBTRid22AX9kU7uyywb94HsXC7wK',\n",
       "   'pubkey': '03148e54bff434a42d567ba8540feb18d8958416e0f6168d5e48146a9b0db7553b',\n",
       "   'pubkeyhash': 'dfe476c4154f4e4190a49b31ae0373ad9f8d6d48',\n",
       "   'index': 2}]}"
      ]
     },
     "execution_count": 9,
     "metadata": {},
     "output_type": "execute_result"
    }
   ],
   "source": [
    "coins"
   ]
  },
  {
   "cell_type": "code",
   "execution_count": 10,
   "metadata": {},
   "outputs": [
    {
     "data": {
      "text/plain": [
       "('0x03612cc14315f03cec5b67929339703b34d03fbfeeaf3d7bdbc05f51ae9e2c12',\n",
       " 'cTsRLC9wAZbRqUozmbMy1MxJsnzTSVPwNic1yzEejGGFt5DsFvf9')"
      ]
     },
     "execution_count": 10,
     "metadata": {},
     "output_type": "execute_result"
    }
   ],
   "source": [
    "# select child accounts (and thus, private keys) by calling coins[COINTYPE][INDEX]['privkey']\n",
    "coins['eth'][0]['privkey'], coins['btc-test'][1]['privkey']"
   ]
  },
  {
   "cell_type": "code",
   "execution_count": 11,
   "metadata": {},
   "outputs": [
    {
     "name": "stdout",
     "output_type": "stream",
     "text": [
      "btc 3\n",
      "eth 3\n",
      "btc-test 3\n"
     ]
    }
   ],
   "source": [
    "# function to check the number of derived wallets in the \"coins\" dictionary.\n",
    "for coin in coins:\n",
    "    print(coin, len(coins[coin]))"
   ]
  },
  {
   "cell_type": "markdown",
   "metadata": {},
   "source": [
    "# Now, we need to use bit and web3.py to leverage the keys we've got in the coins object.\n",
    "You will need to create three more functions:"
   ]
  },
  {
   "cell_type": "code",
   "execution_count": 12,
   "metadata": {},
   "outputs": [],
   "source": [
    "# for BITTEST\n",
    "\n",
    "from bit import PrivateKeyTestnet\n",
    "from bit.network import NetworkAPI"
   ]
  },
  {
   "cell_type": "code",
   "execution_count": 14,
   "metadata": {},
   "outputs": [],
   "source": [
    "# for ETH\n",
    "from web3 import Web3\n",
    "from eth_account import Account\n",
    "from pathlib import Path\n",
    "from getpass import getpass\n",
    "\n",
    "from web3.middleware import geth_poa_middleware\n",
    "\n",
    "\n",
    "\n",
    "\n",
    "from web3 import Account"
   ]
  },
  {
   "cell_type": "code",
   "execution_count": 15,
   "metadata": {},
   "outputs": [],
   "source": [
    "def privateKeyToAccount(coin, priv_key):\n",
    "    if coin==ETH:\n",
    "        return Account.privateKeyToAccount(priv_key)\n",
    "\n",
    "    elif coin==BTCTEST:\n",
    "        return PrivateKeyTestnet(priv_key)"
   ]
  },
  {
   "cell_type": "code",
   "execution_count": 16,
   "metadata": {},
   "outputs": [
    {
     "name": "stdout",
     "output_type": "stream",
     "text": [
      "0x03612cc14315f03cec5b67929339703b34d03fbfeeaf3d7bdbc05f51ae9e2c12\n",
      "\n"
     ]
    },
    {
     "data": {
      "text/plain": [
       "<eth_account.signers.local.LocalAccount at 0x1d459846f48>"
      ]
     },
     "execution_count": 16,
     "metadata": {},
     "output_type": "execute_result"
    }
   ],
   "source": [
    "a = coins['eth'][0]['privkey']\n",
    "print(a)\n",
    "print()\n",
    "Account.privateKeyToAccount(a)"
   ]
  },
  {
   "cell_type": "code",
   "execution_count": 17,
   "metadata": {},
   "outputs": [
    {
     "data": {
      "text/plain": [
       "<eth_account.signers.local.LocalAccount at 0x1d4598aac88>"
      ]
     },
     "execution_count": 17,
     "metadata": {},
     "output_type": "execute_result"
    }
   ],
   "source": [
    "privateKeyToAccount(ETH, coins['eth'][0]['privkey'])"
   ]
  },
  {
   "cell_type": "code",
   "execution_count": 18,
   "metadata": {},
   "outputs": [
    {
     "data": {
      "text/plain": [
       "'cTsRLC9wAZbRqUozmbMy1MxJsnzTSVPwNic1yzEejGGFt5DsFvf9'"
      ]
     },
     "execution_count": 18,
     "metadata": {},
     "output_type": "execute_result"
    }
   ],
   "source": [
    "a =coins['btc-test'][1]['privkey']\n",
    "a"
   ]
  },
  {
   "cell_type": "code",
   "execution_count": 19,
   "metadata": {},
   "outputs": [
    {
     "data": {
      "text/plain": [
       "<PrivateKeyTestnet: mjzrV4wCmJqCqhzGxdFjxgUktbCN3NjU5z>"
      ]
     },
     "execution_count": 19,
     "metadata": {},
     "output_type": "execute_result"
    }
   ],
   "source": [
    "privateKeyToAccount(BTCTEST, coins['btc-test'][1]['privkey'])"
   ]
  },
  {
   "cell_type": "code",
   "execution_count": 20,
   "metadata": {},
   "outputs": [
    {
     "data": {
      "text/plain": [
       "<PrivateKeyTestnet: mjzrV4wCmJqCqhzGxdFjxgUktbCN3NjU5z>"
      ]
     },
     "execution_count": 20,
     "metadata": {},
     "output_type": "execute_result"
    }
   ],
   "source": [
    "PrivateKeyTestnet(a)"
   ]
  },
  {
   "cell_type": "code",
   "execution_count": 21,
   "metadata": {},
   "outputs": [
    {
     "data": {
      "text/plain": [
       "<PrivateKeyTestnet: mjzrV4wCmJqCqhzGxdFjxgUktbCN3NjU5z>"
      ]
     },
     "execution_count": 21,
     "metadata": {},
     "output_type": "execute_result"
    }
   ],
   "source": [
    "PrivateKeyTestnet(coins['btc-test'][1]['privkey'])"
   ]
  },
  {
   "cell_type": "code",
   "execution_count": 22,
   "metadata": {},
   "outputs": [
    {
     "ename": "NameError",
     "evalue": "name 'account_one' is not defined",
     "output_type": "error",
     "traceback": [
      "\u001b[1;31m-------------------------------------------------------------------------\u001b[0m",
      "\u001b[1;31mNameError\u001b[0m                               Traceback (most recent call last)",
      "\u001b[1;32m<ipython-input-22-c71e7a8d533f>\u001b[0m in \u001b[0;36m<module>\u001b[1;34m\u001b[0m\n\u001b[0;32m     28\u001b[0m \u001b[1;33m\u001b[0m\u001b[0m\n\u001b[0;32m     29\u001b[0m \u001b[1;33m\u001b[0m\u001b[0m\n\u001b[1;32m---> 30\u001b[1;33m \u001b[0mprint\u001b[0m\u001b[1;33m(\u001b[0m\u001b[0maccount_one\u001b[0m\u001b[1;33m.\u001b[0m\u001b[0maddress\u001b[0m\u001b[1;33m)\u001b[0m\u001b[1;33m\u001b[0m\u001b[1;33m\u001b[0m\u001b[0m\n\u001b[0m\u001b[0;32m     31\u001b[0m \u001b[0mprint\u001b[0m\u001b[1;33m(\u001b[0m\u001b[0maccount_two\u001b[0m\u001b[1;33m.\u001b[0m\u001b[0maddress\u001b[0m\u001b[1;33m)\u001b[0m\u001b[1;33m\u001b[0m\u001b[1;33m\u001b[0m\u001b[0m\n",
      "\u001b[1;31mNameError\u001b[0m: name 'account_one' is not defined"
     ]
    }
   ],
   "source": [
    "def create_raw_tx(coin, account, recipient, amount):\n",
    "    if coin==ETH:\n",
    "        gasEstimate = w3.eth.estimateGas(\n",
    "            {\"from\": account.address, \"to\": recipient, \"value\": amount}\n",
    "        )\n",
    "        return {\n",
    "            \"from\": account.address,\n",
    "            \"to\": recipient,\n",
    "            \"value\": amount,\n",
    "            \"gasPrice\": w3.eth.gasPrice,\n",
    "            \"gas\": gasEstimate,\n",
    "            \"nonce\": w3.eth.getTransactionCount(account.address),\n",
    "        }\n",
    "    elif coin==BTCTEST:\n",
    "        return PrivateKeyTestnet.prepare_transaction(account.address, [(recipient, amount, BTC)])\n",
    "\n",
    "def send_tx(coin, account, recipient, amount):\n",
    "    if coin==ETH:\n",
    "        tx = create_raw_tx(coin, account, recipient, amount)\n",
    "        signed_tx = account.sign_transaction(tx)\n",
    "        result = w3.eth.sendRawTransaction(signed_tx.rawTransaction)\n",
    "        print(result.hex())\n",
    "        return result.hex()\n",
    "    elif coin==BTCTEST:\n",
    "        tx = create_raw_tx(coin, account, recipient, amount)\n",
    "        signed = account.sign_transaction(tx)\n",
    "        return NetworkAPI.broadcast_tx_testnet(signed)\n",
    "\n",
    "\n",
    "print(account_one.address)\n",
    "print(account_two.address)"
   ]
  },
  {
   "cell_type": "code",
   "execution_count": null,
   "metadata": {},
   "outputs": [],
   "source": []
  }
 ],
 "metadata": {
  "kernelspec": {
   "display_name": "ethereum",
   "language": "python",
   "name": "ethereum"
  },
  "language_info": {
   "codemirror_mode": {
    "name": "ipython",
    "version": 3
   },
   "file_extension": ".py",
   "mimetype": "text/x-python",
   "name": "python",
   "nbconvert_exporter": "python",
   "pygments_lexer": "ipython3",
   "version": "3.7.9"
  }
 },
 "nbformat": 4,
 "nbformat_minor": 4
}
