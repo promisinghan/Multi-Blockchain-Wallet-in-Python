{
 "cells": [
  {
   "cell_type": "code",
   "execution_count": 66,
   "metadata": {},
   "outputs": [],
   "source": [
    "import subprocess\n",
    "import json\n",
    "import web3\n",
    "import bit\n",
    "import os\n",
    "\n",
    "# load_dotenv()\n",
    "\n",
    "\n",
    "from constants import BTC, BTCTEST, ETH"
   ]
  },
  {
   "cell_type": "code",
   "execution_count": 82,
   "metadata": {},
   "outputs": [],
   "source": [
    "from constants import *"
   ]
  },
  {
   "cell_type": "code",
   "execution_count": null,
   "metadata": {},
   "outputs": [],
   "source": []
  },
  {
   "cell_type": "code",
   "execution_count": 71,
   "metadata": {},
   "outputs": [],
   "source": [
    "def get_wallets(coin, mnemonic, numderive=2):\n",
    "    command = f'php ./hd-wallet-derive/hd-wallet-derive.php -g --coin={coin} --format=json --numderive={numderive} --mnemonic=\"{mnemonic}\"'\n",
    "\n",
    "    p = subprocess.Popen(command, stdin=subprocess.PIPE, stdout=subprocess.PIPE, stderr=subprocess.PIPE, shell=True)\n",
    "    output, err = p.communicate()\n",
    "    p_status = p.wait()\n",
    "\n",
    "    return json.loads(output)"
   ]
  },
  {
   "cell_type": "code",
   "execution_count": 72,
   "metadata": {},
   "outputs": [],
   "source": [
    "mnemonic = \"very elbow cry essay rail course steel item decline kidney vault jeans\"\n",
    "# mnemonic = os.getenv('MNEMONIC', 'insert mnemonic here')\n",
    "coins = [\n",
    "    BTC,\n",
    "    ETH,\n",
    "    BTCTEST\n",
    "]"
   ]
  },
  {
   "cell_type": "code",
   "execution_count": 73,
   "metadata": {},
   "outputs": [],
   "source": [
    "all_wallets = {}\n",
    "for x in coins:\n",
    "    all_wallets[x] = get_wallets(x, mnemonic)"
   ]
  },
  {
   "cell_type": "code",
   "execution_count": 74,
   "metadata": {},
   "outputs": [
    {
     "data": {
      "text/plain": [
       "{'btc': [{'path': \"m/44'/0'/0'/0/0\",\n",
       "   'address': '1EMsFuX7EtQ8B7Faj2Dfr4fr1bzJ6hqXd5',\n",
       "   'xprv': 'xprvA3EcqdeMhL6iPg11gWkk98R564se7X78oAMRSvBgKDmiiwPsyKT8MsKgUhHG4ZAzcQRuqkcuVhH75ubDT1vWLCJGj5gHfhRUkqjB82ZPtrs',\n",
       "   'xpub': 'xpub6GDyF9BFXhf1cA5UnYHkWGMoe6i8WypzAPH2FJbHsZJhbjj2WrmNufeAKwh5bggmW7GQhHvRv511N2TuAmeUV8AD2uJPcEWtNuQkxaMhRWA',\n",
       "   'privkey': 'Kz2tDwXMrmg7j8ZthsYSb7v8EbrDZ8HMKiYm2MVpaUaCeHymbNTu',\n",
       "   'pubkey': '02025237fa00093958e8f59c42b308977c56bbccea42b817b962f6072c572f57f6',\n",
       "   'pubkeyhash': '928be8273b0d1db89142b3aa16c4ef2626a8fc1e',\n",
       "   'index': 0},\n",
       "  {'path': \"m/44'/0'/0'/0/1\",\n",
       "   'address': '19qsbR1xUAMvY7wL4FauK3sqjsZf89YY8s',\n",
       "   'xprv': 'xprvA3EcqdeMhL6iRTPqWpY98io1GhRh9Zr2sTguvnqBP87kMkf3ZBTG2HJBM1Fi674cfth8zFRFQYjHiDr8LEPYFF8Kq9BbcoQJ5SNpdrfh42m',\n",
       "   'xpub': 'xpub6GDyF9BFXhf1dwUJcr59VrjjpjGBZ2ZtEgcWjBEnwTejEYzC6imWa5cfCEjsq1ZjjcnEbBht8unoWZCtyfAFZnxZWvs5B1Vp1YVkvcBEYji',\n",
       "   'privkey': 'L4UfpdK7KQCp6bWZkTGFEM3KgmAi5TaLnjofMUyqboXWjiqL17Nu',\n",
       "   'pubkey': '020d1d0b39a7f038e9090f4e38e8cb9996b33e8f9ed3818dea4e491acdd20c46b5',\n",
       "   'pubkeyhash': '60ff34a478a74b03877e1fb9755bb54740371e16',\n",
       "   'index': 1}],\n",
       " 'eth': [{'path': \"m/44'/60'/0'/0/0\",\n",
       "   'address': '0xfEEb7F4465a23E5B98bCEc6C52dC013A43b7183e',\n",
       "   'xprv': 'xprvA47ozEv8F6Ui1aW4xttZHoC1ezz2MzxG5jVmnusMXbHcPQjP6AsGuHd25HjiRk4TEZZA6AbCcGtLQdJbwE3VdNSeMyet3th7VX2Lojy38yM',\n",
       "   'xpub': 'xpub6H7APkT25U31E4aY4vRZew8kD2pWmTg7SxRNbJGy5vpbGD4XdiBXT5wVvbwk5YyApJTMvB8i6YhYnczEgnvvXfg3wd3VDgR6bnViwSXNStA',\n",
       "   'privkey': '0x560c404be4b1d12c829a084fc2a5fca42be9f21adee352d5d7821199338bbc20',\n",
       "   'pubkey': '03f870144d50b3e70d10204a4315bf405abdd0aafa23bb217725dec75348c651e7',\n",
       "   'pubkeyhash': 'de5c84a379ae76fa0236379603bb9551739bd606',\n",
       "   'index': 0},\n",
       "  {'path': \"m/44'/60'/0'/0/1\",\n",
       "   'address': '0xebcceDE0B93d33E975afAc529b7306a9403D4Ee8',\n",
       "   'xprv': 'xprvA47ozEv8F6Ui3rsejJtSApRYvwn2ZFhEqj1T6S7FTYrdBQnfh3EA3S5wdE9hM7zePq5hQ3jcK1FHu6nE2dukfbvV5A6Ud9PzDBNc19fpgFT',\n",
       "   'xpub': 'xpub6H7APkT25U31GLx7qLRSXxNHUycWxiR6Cww3tpWs1tPc4D7pEaYQbEQRUUz945FCQ3JtwH9CZ7PYZvtVtKHNQeGtAhtH1p5UBehSXfenCbd',\n",
       "   'privkey': '0x505f4fc79d33dfb005287f480735699ae394ef99dc37a095a64b865f31956036',\n",
       "   'pubkey': '0236a977599d69cd47c838c8991e500c66de22555ed3603a6d1fcc7054b4b9ac39',\n",
       "   'pubkeyhash': 'ce1fca9b4992f327c71f5020684447fae4234e77',\n",
       "   'index': 1}],\n",
       " 'btc-test': [{'path': \"m/44'/1'/0'/0/0\",\n",
       "   'address': 'n3zjBCybP9YfD3Jbo3XmNbea7m2bVeqCaF',\n",
       "   'xprv': 'tprv8jtghNvGNPaCUsJBVjZJFdnS9qKTyWMJeFMSpk3rqgJhVKt5WoNai1P8TyQRbNfxD2xe2ZKcTStgAoqZtSQ1mBRgpRjktZHEDDrUp3RTX1P',\n",
       "   'xpub': 'tpubDGaiqnxWWmFsNLKyPPDtf3SYirqQ8qYDDYxE7G6AFx76Kp8r9CCAtVzze6iUHCc94QN7vKcNemsR6LKeuRPxjqC2C26gFiBdr6gYX2SMtyF',\n",
       "   'privkey': 'cNsCZXyVNk2pg6NLMssGZxnjeBWWq3ousz58UBvWwCmfb94z4VqV',\n",
       "   'pubkey': '02565978a569d47b09c8071888174a1ae4c5b8c5db4d61337de57c186a7a204c5b',\n",
       "   'pubkeyhash': 'f69376ba38ec53b18ec4893faa2c88d8ab14416a',\n",
       "   'index': 0},\n",
       "  {'path': \"m/44'/1'/0'/0/1\",\n",
       "   'address': 'n2nrtRREqL1QpgjM8iZY8CURxUkehcHSCV',\n",
       "   'xprv': 'tprv8jtghNvGNPaCXJZR3vYnwVN4JJWLPqF3kdDxrHreQ2JNStbW3umpgyWfNaPVC4UhG5de7ye2BTmePEpSibkgPeYoRDhyhJTQZQ1jDhZ1zM5',\n",
       "   'xpub': 'tpubDGaiqnxWWmFsQmbCwaDPLu2AsL2GZARxKvpk8otwpJ6mHNrGgJbQsU8XYhbgzSeKHZnA4zRL1gLzCVf2A2ZjYPJVah2ZUXgrtfZLqxbv6sQ',\n",
       "   'privkey': 'cQxWforkMpoVD84bnE1zb56buvR1LUM9ohDoutg8uFUfpEehpCyC',\n",
       "   'pubkey': '02877d7894f45fb927e83bf8854a46cacf7aa924a638e5d0ed53b4b4496b496cdf',\n",
       "   'pubkeyhash': 'e95cc86e6514b8cd94f2c9255bc88f464a17f734',\n",
       "   'index': 1}]}"
      ]
     },
     "execution_count": 74,
     "metadata": {},
     "output_type": "execute_result"
    }
   ],
   "source": [
    "all_wallets"
   ]
  },
  {
   "cell_type": "code",
   "execution_count": 76,
   "metadata": {},
   "outputs": [
    {
     "data": {
      "text/plain": [
       "('cNsCZXyVNk2pg6NLMssGZxnjeBWWq3ousz58UBvWwCmfb94z4VqV',\n",
       " 'cQxWforkMpoVD84bnE1zb56buvR1LUM9ohDoutg8uFUfpEehpCyC')"
      ]
     },
     "execution_count": 76,
     "metadata": {},
     "output_type": "execute_result"
    }
   ],
   "source": [
    "all_wallets[\"btc-test\"][0]['privkey'], all_wallets[\"btc-test\"][1]['privkey']\n",
    "\n"
   ]
  },
  {
   "cell_type": "code",
   "execution_count": 65,
   "metadata": {},
   "outputs": [
    {
     "name": "stdout",
     "output_type": "stream",
     "text": [
      "btc 10\n",
      "eth 10\n",
      "btc-test 10\n"
     ]
    }
   ],
   "source": [
    "for x in all_wallets:\n",
    "    print(x, len(all_wallets[x]))"
   ]
  },
  {
   "cell_type": "code",
   "execution_count": 55,
   "metadata": {},
   "outputs": [
    {
     "name": "stdout",
     "output_type": "stream",
     "text": [
      "[\n",
      "    {\n",
      "        \"path\": \"m/44'/0'/0'/0/0\",\n",
      "        \"address\": \"1EMsFuX7EtQ8B7Faj2Dfr4fr1bzJ6hqXd5\",\n",
      "        \"xprv\": \"xprvA3EcqdeMhL6iPg11gWkk98R564se7X78oAMRSvBgKDmiiwPsyKT8MsKgUhHG4ZAzcQRuqkcuVhH75ubDT1vWLCJGj5gHfhRUkqjB82ZPtrs\",\n",
      "        \"xpub\": \"xpub6GDyF9BFXhf1cA5UnYHkWGMoe6i8WypzAPH2FJbHsZJhbjj2WrmNufeAKwh5bggmW7GQhHvRv511N2TuAmeUV8AD2uJPcEWtNuQkxaMhRWA\",\n",
      "        \"privkey\": \"Kz2tDwXMrmg7j8ZthsYSb7v8EbrDZ8HMKiYm2MVpaUaCeHymbNTu\",\n",
      "        \"pubkey\": \"02025237fa00093958e8f59c42b308977c56bbccea42b817b962f6072c572f57f6\",\n",
      "        \"pubkeyhash\": \"928be8273b0d1db89142b3aa16c4ef2626a8fc1e\",\n",
      "        \"index\": 0\n",
      "    },\n",
      "    {\n",
      "        \"path\": \"m/44'/0'/0'/0/1\",\n",
      "        \"address\": \"19qsbR1xUAMvY7wL4FauK3sqjsZf89YY8s\",\n",
      "        \"xprv\": \"xprvA3EcqdeMhL6iRTPqWpY98io1GhRh9Zr2sTguvnqBP87kMkf3ZBTG2HJBM1Fi674cfth8zFRFQYjHiDr8LEPYFF8Kq9BbcoQJ5SNpdrfh42m\",\n",
      "        \"xpub\": \"xpub6GDyF9BFXhf1dwUJcr59VrjjpjGBZ2ZtEgcWjBEnwTejEYzC6imWa5cfCEjsq1ZjjcnEbBht8unoWZCtyfAFZnxZWvs5B1Vp1YVkvcBEYji\",\n",
      "        \"privkey\": \"L4UfpdK7KQCp6bWZkTGFEM3KgmAi5TaLnjofMUyqboXWjiqL17Nu\",\n",
      "        \"pubkey\": \"020d1d0b39a7f038e9090f4e38e8cb9996b33e8f9ed3818dea4e491acdd20c46b5\",\n",
      "        \"pubkeyhash\": \"60ff34a478a74b03877e1fb9755bb54740371e16\",\n",
      "        \"index\": 1\n",
      "    },\n",
      "    {\n",
      "        \"path\": \"m/44'/0'/0'/0/2\",\n",
      "        \"address\": \"1JUDGrUtCq1RXyhF8KMKHMTB1h6ax3MCYt\",\n",
      "        \"xprv\": \"xprvA3EcqdeMhL6iTzHkZB7tn36imQguoxukRKb3ARN1AE2qKVfnxDna77jB75owjpMTi61kFCK2RgWAzRmM4xZBkDcEiNyQ2SJ3WMVN1rgCWnG\",\n",
      "        \"xpub\": \"xpub6GDyF9BFXhf1gUNDfCeu9B3TKSXQDRdbnYWdxomciZZpCHzwVm6pev3exPzTbSmecL7EyFcDZ6oBn8xoCvonsm2DacFXnJyRwXPWC2m6eEG\",\n",
      "        \"privkey\": \"KwxkXLvnEQcCFWFAuff48gzpEK7Pu7o6McZo5CcD1DF6PTSAXrYy\",\n",
      "        \"pubkey\": \"03b5182c653e00be85e433f3a05cdbe64a9c9b3d0d1841144f01e7f5db93784d7f\",\n",
      "        \"pubkeyhash\": \"bf9f9d5349b72eccd2ea28c17f5a4ea987fff473\",\n",
      "        \"index\": 2\n",
      "    },\n",
      "    {\n",
      "        \"path\": \"m/44'/0'/0'/0/3\",\n",
      "        \"address\": \"1NHPYCjLz773ZFKh4svswo7TDy9GuivhmR\",\n",
      "        \"xprv\": \"xprvA3EcqdeMhL6iXKgogG9Pqqg9MALsvQ92BwDozbKARYWpmkAEMMufHpiVGi9ePUBcTKDQRjax46DCKEoWsm8fZV9djCGpe9eo8SyWMCZ9GZu\",\n",
      "        \"xpub\": \"xpub6GDyF9BFXhf1jomGnHgQCycsuCBNKrrsZA9Qnyimyt3oeYVNtuDuqd2y818XrAbot98jHWyGsWvjQToF9CxuwvfjiMthoH1AT1FWb5pYyVc\",\n",
      "        \"privkey\": \"L5jWPfk6qxU7YU3ZtXKJdfkSZPuGdQUGJxEHBL8R6Bpcuhi7uCkV\",\n",
      "        \"pubkey\": \"03fee1fe70d641a1bc88dc7e587eae3cd1ecd80cdc46cd847e191dfb79a8e976f2\",\n",
      "        \"pubkeyhash\": \"e9741c502006ad44e435ad252a0d2b74e34206af\",\n",
      "        \"index\": 3\n",
      "    },\n",
      "    {\n",
      "        \"path\": \"m/44'/0'/0'/0/4\",\n",
      "        \"address\": \"1HBkCzXHBcRcezm5UWpzyvNQgKKqVzbkSX\",\n",
      "        \"xprv\": \"xprvA3EcqdeMhL6iYr4oJLjaGPoaxQgAh91UkSQ2NZVoeWmQGNguasuw1HYA96PPWzjTnVeQroheaX2H3Mr5yoFfzNW4wjpxuq6Dh1aQ2MwuAzh\",\n",
      "        \"xpub\": \"xpub6GDyF9BFXhf1mL9GQNGadXkKWSWf6bjL7fKdAwuRCrJP9B248REBZ5rdzPq7MerDvndGj4AGWin5Ks7BhGmWK84yfF9mqjcov2QaphSHynL\",\n",
      "        \"privkey\": \"L3YcEYGqv5215caXMkQwwgfuFDCyxXcpQZvJfpFH5wgVoRs7zP5U\",\n",
      "        \"pubkey\": \"03fa87f8c5caa9f453569f80a78fb1363730d569bfb64385b660c806e7ceb7656e\",\n",
      "        \"pubkeyhash\": \"b18a3d456d9a626df597398e93f8ca1c370ac9b4\",\n",
      "        \"index\": 4\n",
      "    },\n",
      "    {\n",
      "        \"path\": \"m/44'/0'/0'/0/5\",\n",
      "        \"address\": \"1FXW6QRs5YMAvogdwWkfQ2P3tzMA4pdPU7\",\n",
      "        \"xprv\": \"xprvA3EcqdeMhL6icqLSHfkvYQ5MYHHNnng8S6ASZHBhxiiBjja9CkNcQjsPSnNq3EhQKe8VEsszjXSiPK4QgDLUTJnarhXZxvyQQgQbrX2ACQn\",\n",
      "        \"xpub\": \"xpub6GDyF9BFXhf1qKQuPhHvuY266K7sCFPyoK63MfbKX4FAcXuHkHgrxYBsJ5nrQ4JF62RYkXrVANatjkjs3TyS5XX3w7jm9qBjbsm7YUbTCaE\",\n",
      "        \"privkey\": \"L1GrGeH9zUGq3ZxP7NqwR8Gw6MD6qBAUhrVnjrdMauuzGjvYyRUY\",\n",
      "        \"pubkey\": \"03b2e4fc961b9ba22883ff67019fe35d43d59383d8538607d61179bed1fed497df\",\n",
      "        \"pubkeyhash\": \"9f56868c9c59bf96b22b9a7b4d588a37348d1185\",\n",
      "        \"index\": 5\n",
      "    },\n",
      "    {\n",
      "        \"path\": \"m/44'/0'/0'/0/6\",\n",
      "        \"address\": \"113VSRTVzGWPKLQipVQYfDQBQvaJLYGAWp\",\n",
      "        \"xprv\": \"xprvA3EcqdeMhL6ie5bft36s1vcj2ztpuTxfwhBg3sTBhtuyzXj2EXBMXSiWkixwZdev6LsPEpMBzsCJTun6Z7TfYftgWuT6GBLCg4yJHdRz2pR\",\n",
      "        \"xpub\": \"xpub6GDyF9BFXhf1rZg8z4dsP4ZTb2jKJvgXJv7GrFroGESxsL4An4Vc5F2zc1M2J7kTebVGNW2XV1ztQtdSx7dP7hmAPT5Nfss7kKCyziLauDQ\",\n",
      "        \"privkey\": \"L3jeRUYrJDwzaGJRLCoRLSqjhLfnec3gp8JKHQ9KbVLfKDvbg8iE\",\n",
      "        \"pubkey\": \"03743fad56158679e69ea9ec81db371c0e96275b9efbf3093a3a968682d944109f\",\n",
      "        \"pubkeyhash\": \"0078922eaebf6099d9bf4ac156f7980247fba168\",\n",
      "        \"index\": 6\n",
      "    },\n",
      "    {\n",
      "        \"path\": \"m/44'/0'/0'/0/7\",\n",
      "        \"address\": \"19oLTFpyyAWA3oMwu7gXNDBYHcnWXdt69\",\n",
      "        \"xprv\": \"xprvA3EcqdeMhL6igjQ1murULZ2TffqwDiyAq4ytjHJWodCY8SaUwBiCdeMSXw5BrQPSiNnbLAU3vaEL1yzh1Nc6PG2c6WTpuDuaPH8iMhtfeFZ\",\n",
      "        \"xpub\": \"xpub6GDyF9BFXhf1uDUUswPUhgyCDhgRdBh2CHuVXfi8MxjX1EudUj2TBSfvPCKAaNeB1kyXuCrAaRifFPAunQwJy4UCPK9v3tVNDMBawXCyJjL\",\n",
      "        \"privkey\": \"KyhSg3767uGFmWBYFmGAtz1zk34sagvuPGVb4GRJnoJq8sudNp3t\",\n",
      "        \"pubkey\": \"0265ab750a86138d009184a89b5b4ac3ce4c4db72673f700d311b59c65a94951ab\",\n",
      "        \"pubkeyhash\": \"01aa01ac031df3e37d98f280717a9b5909ffcfbc\",\n",
      "        \"index\": 7\n",
      "    },\n",
      "    {\n",
      "        \"path\": \"m/44'/0'/0'/0/8\",\n",
      "        \"address\": \"13HRe43rR9G4ddXh7AdSxCXmZ6hzGVtAud\",\n",
      "        \"xprv\": \"xprvA3EcqdeMhL6iixcRbwcrYmz8ttNMzWBFREn7WD3ePh416JWGbDfXz7C5X7K2FCTzLZSDWZxhqjwfbW5wVbxBa3Xd3JxPeYL1j7MtrE3zLPr\",\n",
      "        \"xpub\": \"xpub6GDyF9BFXhf1wSgthy9ruuvsSvCrPxu6nThiJbTFx2ayy6qR8kynXuWZNNJW4wMPqwVymbnJWNb7PBBotQUoTr7qrM22dk4RVNqi4hCS4LQ\",\n",
      "        \"privkey\": \"KyQMF6WpYBPFJV3f1B2qkfNSfDqotMm54wAFt5cHfs4ZZLjCPFYv\",\n",
      "        \"pubkey\": \"023bf4bdaa8cbfe62ea8c5a4f28ac2bf1f84dbfe35dd87516c6eb39cbc42be1e33\",\n",
      "        \"pubkeyhash\": \"190b7973b6edf1309c8f3ccd7dc74f705c427051\",\n",
      "        \"index\": 8\n",
      "    },\n",
      "    {\n",
      "        \"path\": \"m/44'/0'/0'/0/9\",\n",
      "        \"address\": \"1GJrAcBfsvtuspU5AhYnJYhuoHuVmwgkYY\",\n",
      "        \"xprv\": \"xprvA3EcqdeMhL6in1jT75ZTMBBc7k9GikxCFL1gocw3icnwRTh6SpYJGWScbnvJfno1px7vGLHrZZrv3RAwJCPdoqnXLYqCfZMSGYyw2zqfC1T\",\n",
      "        \"xpub\": \"xpub6GDyF9BFXhf1zVovD76TiK8Lfmym8Dg3cYwHc1LfGxKvJG2EzMrYpJm6T4Fyc2YAaxB9WXMzBkxjQmmUnDci2yuszqpeJpD31vmyWqzw22f\",\n",
      "        \"privkey\": \"L3wEkntefirU4AAqJWpkrpawt53s4s6gjCyLve1ZnQNHxpQwqLRK\",\n",
      "        \"pubkey\": \"02f10b08abd033b3deb58b6ec3e6a7b094a51078b42011e4927f725774cdad7452\",\n",
      "        \"pubkeyhash\": \"a7e9ffdfd7ea3bd84401e2b0a6600038e0a5ed44\",\n",
      "        \"index\": 9\n",
      "    }\n",
      "]\n"
     ]
    }
   ],
   "source": [
    "print(json.dumps(keys, indent=4))"
   ]
  },
  {
   "cell_type": "code",
   "execution_count": null,
   "metadata": {},
   "outputs": [],
   "source": []
  },
  {
   "cell_type": "code",
   "execution_count": 80,
   "metadata": {},
   "outputs": [],
   "source": [
    "from bit import PrivateKeyTestnet\n",
    "from bit.network import NetworkAPI\n",
    "#BITTEST"
   ]
  },
  {
   "cell_type": "code",
   "execution_count": 78,
   "metadata": {},
   "outputs": [],
   "source": [
    "from web3 import Account \n",
    "#ETH"
   ]
  },
  {
   "cell_type": "code",
   "execution_count": null,
   "metadata": {},
   "outputs": [],
   "source": [
    "def privateKeyToAccount(coin, priv_key):\n",
    "    if coin==ETH:\n",
    "        return Account.privateKeyToAccount(priv_key)\n",
    "\n",
    "    elif coin==BTCTEST:\n",
    "        return PrivateKeyTestnet(priv_key)\n",
    "\n"
   ]
  },
  {
   "cell_type": "code",
   "execution_count": 81,
   "metadata": {},
   "outputs": [
    {
     "ename": "NameError",
     "evalue": "name 'account_one' is not defined",
     "output_type": "error",
     "traceback": [
      "\u001b[1;31m-------------------------------------------------------------------------\u001b[0m",
      "\u001b[1;31mNameError\u001b[0m                               Traceback (most recent call last)",
      "\u001b[1;32m<ipython-input-81-0d0a1bd55883>\u001b[0m in \u001b[0;36m<module>\u001b[1;34m\u001b[0m\n\u001b[0;32m     32\u001b[0m \u001b[1;33m\u001b[0m\u001b[0m\n\u001b[0;32m     33\u001b[0m \u001b[1;33m\u001b[0m\u001b[0m\n\u001b[1;32m---> 34\u001b[1;33m \u001b[0mprint\u001b[0m\u001b[1;33m(\u001b[0m\u001b[0maccount_one\u001b[0m\u001b[1;33m.\u001b[0m\u001b[0maddress\u001b[0m\u001b[1;33m)\u001b[0m\u001b[1;33m\u001b[0m\u001b[1;33m\u001b[0m\u001b[0m\n\u001b[0m\u001b[0;32m     35\u001b[0m \u001b[0mprint\u001b[0m\u001b[1;33m(\u001b[0m\u001b[0maccount_two\u001b[0m\u001b[1;33m.\u001b[0m\u001b[0maddress\u001b[0m\u001b[1;33m)\u001b[0m\u001b[1;33m\u001b[0m\u001b[1;33m\u001b[0m\u001b[0m\n",
      "\u001b[1;31mNameError\u001b[0m: name 'account_one' is not defined"
     ]
    }
   ],
   "source": [
    "def create_raw_tx(coin, account, recipient, amount):\n",
    "    if coin==ETH:\n",
    "        gasEstimate = w3.eth.estimateGas(\n",
    "            {\"from\": account.address, \"to\": recipient, \"value\": amount}\n",
    "        )\n",
    "        return {\n",
    "            \"from\": account.address,\n",
    "            \"to\": recipient,\n",
    "            \"value\": amount,\n",
    "            \"gasPrice\": w3.eth.gasPrice,\n",
    "            \"gas\": gasEstimate,\n",
    "            \"nonce\": w3.eth.getTransactionCount(account.address),\n",
    "        }\n",
    "    elif coin==BTCTEST:\n",
    "        return PrivateKeyTestnet.prepare_transaction(account.address, [(recipient, amount, BTC)])\n",
    "\n",
    "\n",
    "\n",
    "\n",
    "\n",
    "def send_tx(coin, account, recipient, amount):\n",
    "    if coin==ETH:\n",
    "        tx = create_raw_tx(coin, account, recipient, amount)\n",
    "        signed_tx = account.sign_transaction(tx)\n",
    "        result = w3.eth.sendRawTransaction(signed_tx.rawTransaction)\n",
    "        print(result.hex())\n",
    "        return result.hex()\n",
    "    elif coin==BTCTEST:\n",
    "        tx = create_raw_tx(coin, account, recipient, amount)\n",
    "        signed = account.sign_transaction(tx)\n",
    "        return NetworkAPI.broadcast_tx_testnet(signed)\n",
    "\n",
    "\n",
    "print(account_one.address)\n",
    "print(account_two.address)\n"
   ]
  },
  {
   "cell_type": "code",
   "execution_count": null,
   "metadata": {},
   "outputs": [],
   "source": []
  }
 ],
 "metadata": {
  "kernelspec": {
   "display_name": "ethereum",
   "language": "python",
   "name": "ethereum"
  },
  "language_info": {
   "codemirror_mode": {
    "name": "ipython",
    "version": 3
   },
   "file_extension": ".py",
   "mimetype": "text/x-python",
   "name": "python",
   "nbconvert_exporter": "python",
   "pygments_lexer": "ipython3",
   "version": "3.7.9"
  }
 },
 "nbformat": 4,
 "nbformat_minor": 4
}
